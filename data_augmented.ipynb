{
 "cells": [
  {
   "cell_type": "code",
   "execution_count": 40,
   "id": "initial_id",
   "metadata": {
    "collapsed": true,
    "ExecuteTime": {
     "end_time": "2023-10-20T17:57:13.836540300Z",
     "start_time": "2023-10-20T17:57:13.835131200Z"
    }
   },
   "outputs": [],
   "source": [
    "import albumentations as A"
   ]
  },
  {
   "cell_type": "code",
   "execution_count": 41,
   "outputs": [],
   "source": [
    "import os"
   ],
   "metadata": {
    "collapsed": false,
    "ExecuteTime": {
     "end_time": "2023-10-20T17:57:14.081939Z",
     "start_time": "2023-10-20T17:57:14.079551700Z"
    }
   },
   "id": "d0da9527f83ec602"
  },
  {
   "cell_type": "code",
   "execution_count": 54,
   "outputs": [],
   "source": [
    "trans = A.Compose([\n",
    "        A.GaussNoise(),    # 将高斯噪声应用于输入图像。\n",
    "        A.JpegCompression(),    # 使用随机质量来压缩JPEG图像。\n",
    "        A.MotionBlur(),   # 使用随机大小的内核将运动模糊应用于输入图像。\n",
    "        A.MedianBlur(),    # 中值滤波\n",
    "        A.Blur(),   # 使用随机大小的内核模糊输入图像。     \n",
    "        A.ToGray(),   # 将输入图像转换为灰度。\n",
    "        A.RandomGamma(),   # 随机Gamma变换\n",
    "        A.RandomBrightnessContrast(),   # 随机明亮对比度\n",
    "        A.RandomContrast(),  # 随机对比度\n",
    "    ], p=1)"
   ],
   "metadata": {
    "collapsed": false,
    "ExecuteTime": {
     "end_time": "2023-10-20T18:03:18.156975700Z",
     "start_time": "2023-10-20T18:03:18.154239900Z"
    }
   },
   "id": "e1842eabfbd81059"
  },
  {
   "cell_type": "code",
   "execution_count": 55,
   "outputs": [],
   "source": [
    "import cv2\n",
    "import tqdm"
   ],
   "metadata": {
    "collapsed": false,
    "ExecuteTime": {
     "end_time": "2023-10-20T18:03:18.462647Z",
     "start_time": "2023-10-20T18:03:18.459625100Z"
    }
   },
   "id": "1d34639341edb186"
  },
  {
   "cell_type": "code",
   "execution_count": 56,
   "outputs": [
    {
     "name": "stderr",
     "output_type": "stream",
     "text": [
      "100%|██████████| 5749/5749 [07:41<00:00, 12.45it/s]\n"
     ]
    }
   ],
   "source": [
    "pbar = tqdm.tqdm(os.listdir('datasets'))\n",
    "for person in pbar:\n",
    "    for img in os.listdir('datasets/' + person):\n",
    "        length = len(os.listdir('datasets/' + person))\n",
    "        i = cv2.imread('datasets/' + person + '/' + img)\n",
    "        # i = cv2.cvtColor(i, cv2.COLOR_BGR2RGB)\n",
    "        for _ in range(40 // length):\n",
    "            length += 1\n",
    "            transform = trans(image=i)\n",
    "            cv2.imwrite(f\"datasets/{person}/{person}_{int(length):04d}.jpg\", transform['image'])\n",
    "            \n",
    "        "
   ],
   "metadata": {
    "collapsed": false,
    "ExecuteTime": {
     "end_time": "2023-10-20T18:11:04.460915300Z",
     "start_time": "2023-10-20T18:03:22.580540600Z"
    }
   },
   "id": "84201cf8ab41b0c9"
  },
  {
   "cell_type": "code",
   "execution_count": null,
   "outputs": [],
   "source": [],
   "metadata": {
    "collapsed": false
   },
   "id": "2119e82902d7e22b"
  },
  {
   "cell_type": "code",
   "execution_count": 62,
   "outputs": [
    {
     "name": "stdout",
     "output_type": "stream",
     "text": [
      "(1797, 64)\n",
      "<class 'numpy.ndarray'>\n",
      "(1797, 2)\n"
     ]
    }
   ],
   "source": [
    "import umap\n",
    "from sklearn.datasets import load_digits\n",
    "\n",
    "digits = load_digits()\n",
    "print(digits.data.shape)\n",
    "print(type(digits.data))\n",
    "embedding = umap.UMAP().fit_transform(digits.data)\n",
    "print(embedding.shape)"
   ],
   "metadata": {
    "collapsed": false,
    "ExecuteTime": {
     "end_time": "2023-10-21T17:02:46.026004800Z",
     "start_time": "2023-10-21T17:02:43.365327200Z"
    }
   },
   "id": "3bcb9fb34b1ded72"
  },
  {
   "cell_type": "code",
   "execution_count": 6,
   "outputs": [],
   "source": [
    "import os\n",
    "from PIL import Image\n",
    "import json\n",
    "\n",
    "with open(\"database.json\", \"r\") as f:\n",
    "    database = json.load(f)\n",
    "\n",
    "for name, pic in database.items():\n",
    "        i = Image.open(pic)\n",
    "        os.mkdir(f\"database/{name}\")\n",
    "        i.save(f\"database/{name}/{name}_{1:04d}.jpg\")"
   ],
   "metadata": {
    "collapsed": false,
    "ExecuteTime": {
     "end_time": "2023-10-22T16:09:19.539982400Z",
     "start_time": "2023-10-22T16:09:11.942832400Z"
    }
   },
   "id": "a1573491a32c1f1a"
  },
  {
   "cell_type": "code",
   "execution_count": null,
   "outputs": [],
   "source": [],
   "metadata": {
    "collapsed": false
   },
   "id": "9661a62f0bba2a55"
  }
 ],
 "metadata": {
  "kernelspec": {
   "display_name": "Python 3",
   "language": "python",
   "name": "python3"
  },
  "language_info": {
   "codemirror_mode": {
    "name": "ipython",
    "version": 2
   },
   "file_extension": ".py",
   "mimetype": "text/x-python",
   "name": "python",
   "nbconvert_exporter": "python",
   "pygments_lexer": "ipython2",
   "version": "2.7.6"
  }
 },
 "nbformat": 4,
 "nbformat_minor": 5
}
